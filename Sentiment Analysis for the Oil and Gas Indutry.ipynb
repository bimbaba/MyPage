{
  "nbformat": 4,
  "nbformat_minor": 0,
  "metadata": {
    "colab": {
      "name": "Untitled3.ipynb",
      "provenance": [],
      "authorship_tag": "ABX9TyM62YYsUVKfHzFZ8Y6/Ai8r",
      "include_colab_link": true
    },
    "kernelspec": {
      "name": "python3",
      "display_name": "Python 3"
    },
    "accelerator": "GPU"
  },
  "cells": [
    {
      "cell_type": "markdown",
      "metadata": {
        "id": "view-in-github",
        "colab_type": "text"
      },
      "source": [
        "<a href=\"https://colab.research.google.com/github/bimbaba/MyPage/blob/master/Sentiment%20Analysis%20for%20the%20Oil%20and%20Gas%20Indutry.ipynb\" target=\"_parent\"><img src=\"https://colab.research.google.com/assets/colab-badge.svg\" alt=\"Open In Colab\"/></a>"
      ]
    },
    {
      "cell_type": "code",
      "metadata": {
        "id": "A8x8MaZC22ks",
        "colab_type": "code",
        "colab": {
          "base_uri": "https://localhost:8080/",
          "height": 1000
        },
        "outputId": "96f88aaf-5c43-439f-8d5b-b7784518138d"
      },
      "source": [
        "!pip install --upgrade git+https://github.com/flairNLP/flair.git"
      ],
      "execution_count": 2,
      "outputs": [
        {
          "output_type": "stream",
          "text": [
            "Collecting git+https://github.com/flairNLP/flair.git\n",
            "  Cloning https://github.com/flairNLP/flair.git to /tmp/pip-req-build-1lramd76\n",
            "  Running command git clone -q https://github.com/flairNLP/flair.git /tmp/pip-req-build-1lramd76\n",
            "  Installing build dependencies ... \u001b[?25l\u001b[?25hdone\n",
            "  Getting requirements to build wheel ... \u001b[?25l\u001b[?25hdone\n",
            "    Preparing wheel metadata ... \u001b[?25l\u001b[?25hdone\n",
            "Requirement already satisfied, skipping upgrade: hyperopt>=0.1.1 in /usr/local/lib/python3.6/dist-packages (from flair==0.6.0.post1) (0.1.2)\n",
            "Requirement already satisfied, skipping upgrade: bpemb>=0.3.2 in /usr/local/lib/python3.6/dist-packages (from flair==0.6.0.post1) (0.3.2)\n",
            "Requirement already satisfied, skipping upgrade: konoha<5.0.0,>=4.0.0 in /usr/local/lib/python3.6/dist-packages (from flair==0.6.0.post1) (4.6.1)\n",
            "Requirement already satisfied, skipping upgrade: tabulate in /usr/local/lib/python3.6/dist-packages (from flair==0.6.0.post1) (0.8.7)\n",
            "Requirement already satisfied, skipping upgrade: matplotlib>=2.2.3 in /usr/local/lib/python3.6/dist-packages (from flair==0.6.0.post1) (3.2.2)\n",
            "Requirement already satisfied, skipping upgrade: mpld3==0.3 in /usr/local/lib/python3.6/dist-packages (from flair==0.6.0.post1) (0.3)\n",
            "Requirement already satisfied, skipping upgrade: pytest>=5.3.2 in /usr/local/lib/python3.6/dist-packages (from flair==0.6.0.post1) (6.0.1)\n",
            "Requirement already satisfied, skipping upgrade: sqlitedict>=1.6.0 in /usr/local/lib/python3.6/dist-packages (from flair==0.6.0.post1) (1.7.0)\n",
            "Requirement already satisfied, skipping upgrade: ftfy in /usr/local/lib/python3.6/dist-packages (from flair==0.6.0.post1) (5.8)\n",
            "Requirement already satisfied, skipping upgrade: janome in /usr/local/lib/python3.6/dist-packages (from flair==0.6.0.post1) (0.4.0)\n",
            "Requirement already satisfied, skipping upgrade: langdetect in /usr/local/lib/python3.6/dist-packages (from flair==0.6.0.post1) (1.0.8)\n",
            "Requirement already satisfied, skipping upgrade: sentencepiece!=0.1.92 in /usr/local/lib/python3.6/dist-packages (from flair==0.6.0.post1) (0.1.91)\n",
            "Requirement already satisfied, skipping upgrade: python-dateutil>=2.6.1 in /usr/local/lib/python3.6/dist-packages (from flair==0.6.0.post1) (2.8.1)\n",
            "Requirement already satisfied, skipping upgrade: transformers>=3.0.0 in /usr/local/lib/python3.6/dist-packages (from flair==0.6.0.post1) (3.1.0)\n",
            "Requirement already satisfied, skipping upgrade: lxml in /usr/local/lib/python3.6/dist-packages (from flair==0.6.0.post1) (4.2.6)\n",
            "Requirement already satisfied, skipping upgrade: scikit-learn>=0.21.3 in /usr/local/lib/python3.6/dist-packages (from flair==0.6.0.post1) (0.22.2.post1)\n",
            "Requirement already satisfied, skipping upgrade: torch>=1.1.0 in /usr/local/lib/python3.6/dist-packages (from flair==0.6.0.post1) (1.6.0+cu101)\n",
            "Requirement already satisfied, skipping upgrade: regex in /usr/local/lib/python3.6/dist-packages (from flair==0.6.0.post1) (2019.12.20)\n",
            "Requirement already satisfied, skipping upgrade: deprecated>=1.2.4 in /usr/local/lib/python3.6/dist-packages (from flair==0.6.0.post1) (1.2.10)\n",
            "Requirement already satisfied, skipping upgrade: tqdm>=4.26.0 in /usr/local/lib/python3.6/dist-packages (from flair==0.6.0.post1) (4.41.1)\n",
            "Requirement already satisfied, skipping upgrade: gensim>=3.4.0 in /usr/local/lib/python3.6/dist-packages (from flair==0.6.0.post1) (3.6.0)\n",
            "Requirement already satisfied, skipping upgrade: segtok>=1.5.7 in /usr/local/lib/python3.6/dist-packages (from flair==0.6.0.post1) (1.5.10)\n",
            "Requirement already satisfied, skipping upgrade: scipy in /usr/local/lib/python3.6/dist-packages (from hyperopt>=0.1.1->flair==0.6.0.post1) (1.4.1)\n",
            "Requirement already satisfied, skipping upgrade: future in /usr/local/lib/python3.6/dist-packages (from hyperopt>=0.1.1->flair==0.6.0.post1) (0.16.0)\n",
            "Requirement already satisfied, skipping upgrade: pymongo in /usr/local/lib/python3.6/dist-packages (from hyperopt>=0.1.1->flair==0.6.0.post1) (3.11.0)\n",
            "Requirement already satisfied, skipping upgrade: networkx in /usr/local/lib/python3.6/dist-packages (from hyperopt>=0.1.1->flair==0.6.0.post1) (2.5)\n",
            "Requirement already satisfied, skipping upgrade: numpy in /usr/local/lib/python3.6/dist-packages (from hyperopt>=0.1.1->flair==0.6.0.post1) (1.18.5)\n",
            "Requirement already satisfied, skipping upgrade: six in /usr/local/lib/python3.6/dist-packages (from hyperopt>=0.1.1->flair==0.6.0.post1) (1.15.0)\n",
            "Requirement already satisfied, skipping upgrade: requests in /usr/local/lib/python3.6/dist-packages (from bpemb>=0.3.2->flair==0.6.0.post1) (2.23.0)\n",
            "Requirement already satisfied, skipping upgrade: overrides==3.0.0 in /usr/local/lib/python3.6/dist-packages (from konoha<5.0.0,>=4.0.0->flair==0.6.0.post1) (3.0.0)\n",
            "Requirement already satisfied, skipping upgrade: kiwisolver>=1.0.1 in /usr/local/lib/python3.6/dist-packages (from matplotlib>=2.2.3->flair==0.6.0.post1) (1.2.0)\n",
            "Requirement already satisfied, skipping upgrade: pyparsing!=2.0.4,!=2.1.2,!=2.1.6,>=2.0.1 in /usr/local/lib/python3.6/dist-packages (from matplotlib>=2.2.3->flair==0.6.0.post1) (2.4.7)\n",
            "Requirement already satisfied, skipping upgrade: cycler>=0.10 in /usr/local/lib/python3.6/dist-packages (from matplotlib>=2.2.3->flair==0.6.0.post1) (0.10.0)\n",
            "Requirement already satisfied, skipping upgrade: attrs>=17.4.0 in /usr/local/lib/python3.6/dist-packages (from pytest>=5.3.2->flair==0.6.0.post1) (20.1.0)\n",
            "Requirement already satisfied, skipping upgrade: iniconfig in /usr/local/lib/python3.6/dist-packages (from pytest>=5.3.2->flair==0.6.0.post1) (1.0.1)\n",
            "Requirement already satisfied, skipping upgrade: packaging in /usr/local/lib/python3.6/dist-packages (from pytest>=5.3.2->flair==0.6.0.post1) (20.4)\n",
            "Requirement already satisfied, skipping upgrade: more-itertools>=4.0.0 in /usr/local/lib/python3.6/dist-packages (from pytest>=5.3.2->flair==0.6.0.post1) (8.4.0)\n",
            "Requirement already satisfied, skipping upgrade: py>=1.8.2 in /usr/local/lib/python3.6/dist-packages (from pytest>=5.3.2->flair==0.6.0.post1) (1.9.0)\n",
            "Requirement already satisfied, skipping upgrade: importlib-metadata>=0.12; python_version < \"3.8\" in /usr/local/lib/python3.6/dist-packages (from pytest>=5.3.2->flair==0.6.0.post1) (1.7.0)\n",
            "Requirement already satisfied, skipping upgrade: toml in /usr/local/lib/python3.6/dist-packages (from pytest>=5.3.2->flair==0.6.0.post1) (0.10.1)\n",
            "Requirement already satisfied, skipping upgrade: pluggy<1.0,>=0.12 in /usr/local/lib/python3.6/dist-packages (from pytest>=5.3.2->flair==0.6.0.post1) (0.13.1)\n",
            "Requirement already satisfied, skipping upgrade: wcwidth in /usr/local/lib/python3.6/dist-packages (from ftfy->flair==0.6.0.post1) (0.2.5)\n",
            "Requirement already satisfied, skipping upgrade: filelock in /usr/local/lib/python3.6/dist-packages (from transformers>=3.0.0->flair==0.6.0.post1) (3.0.12)\n",
            "Requirement already satisfied, skipping upgrade: sacremoses in /usr/local/lib/python3.6/dist-packages (from transformers>=3.0.0->flair==0.6.0.post1) (0.0.43)\n",
            "Requirement already satisfied, skipping upgrade: dataclasses; python_version < \"3.7\" in /usr/local/lib/python3.6/dist-packages (from transformers>=3.0.0->flair==0.6.0.post1) (0.7)\n",
            "Requirement already satisfied, skipping upgrade: tokenizers==0.8.1.rc2 in /usr/local/lib/python3.6/dist-packages (from transformers>=3.0.0->flair==0.6.0.post1) (0.8.1rc2)\n",
            "Requirement already satisfied, skipping upgrade: joblib>=0.11 in /usr/local/lib/python3.6/dist-packages (from scikit-learn>=0.21.3->flair==0.6.0.post1) (0.16.0)\n",
            "Requirement already satisfied, skipping upgrade: wrapt<2,>=1.10 in /usr/local/lib/python3.6/dist-packages (from deprecated>=1.2.4->flair==0.6.0.post1) (1.12.1)\n",
            "Requirement already satisfied, skipping upgrade: smart-open>=1.2.1 in /usr/local/lib/python3.6/dist-packages (from gensim>=3.4.0->flair==0.6.0.post1) (2.1.0)\n",
            "Requirement already satisfied, skipping upgrade: decorator>=4.3.0 in /usr/local/lib/python3.6/dist-packages (from networkx->hyperopt>=0.1.1->flair==0.6.0.post1) (4.4.2)\n",
            "Requirement already satisfied, skipping upgrade: urllib3!=1.25.0,!=1.25.1,<1.26,>=1.21.1 in /usr/local/lib/python3.6/dist-packages (from requests->bpemb>=0.3.2->flair==0.6.0.post1) (1.24.3)\n",
            "Requirement already satisfied, skipping upgrade: certifi>=2017.4.17 in /usr/local/lib/python3.6/dist-packages (from requests->bpemb>=0.3.2->flair==0.6.0.post1) (2020.6.20)\n",
            "Requirement already satisfied, skipping upgrade: chardet<4,>=3.0.2 in /usr/local/lib/python3.6/dist-packages (from requests->bpemb>=0.3.2->flair==0.6.0.post1) (3.0.4)\n",
            "Requirement already satisfied, skipping upgrade: idna<3,>=2.5 in /usr/local/lib/python3.6/dist-packages (from requests->bpemb>=0.3.2->flair==0.6.0.post1) (2.10)\n",
            "Requirement already satisfied, skipping upgrade: zipp>=0.5 in /usr/local/lib/python3.6/dist-packages (from importlib-metadata>=0.12; python_version < \"3.8\"->pytest>=5.3.2->flair==0.6.0.post1) (3.1.0)\n",
            "Requirement already satisfied, skipping upgrade: click in /usr/local/lib/python3.6/dist-packages (from sacremoses->transformers>=3.0.0->flair==0.6.0.post1) (7.1.2)\n",
            "Requirement already satisfied, skipping upgrade: boto in /usr/local/lib/python3.6/dist-packages (from smart-open>=1.2.1->gensim>=3.4.0->flair==0.6.0.post1) (2.49.0)\n",
            "Requirement already satisfied, skipping upgrade: boto3 in /usr/local/lib/python3.6/dist-packages (from smart-open>=1.2.1->gensim>=3.4.0->flair==0.6.0.post1) (1.14.48)\n",
            "Requirement already satisfied, skipping upgrade: jmespath<1.0.0,>=0.7.1 in /usr/local/lib/python3.6/dist-packages (from boto3->smart-open>=1.2.1->gensim>=3.4.0->flair==0.6.0.post1) (0.10.0)\n",
            "Requirement already satisfied, skipping upgrade: botocore<1.18.0,>=1.17.48 in /usr/local/lib/python3.6/dist-packages (from boto3->smart-open>=1.2.1->gensim>=3.4.0->flair==0.6.0.post1) (1.17.48)\n",
            "Requirement already satisfied, skipping upgrade: s3transfer<0.4.0,>=0.3.0 in /usr/local/lib/python3.6/dist-packages (from boto3->smart-open>=1.2.1->gensim>=3.4.0->flair==0.6.0.post1) (0.3.3)\n",
            "Requirement already satisfied, skipping upgrade: docutils<0.16,>=0.10 in /usr/local/lib/python3.6/dist-packages (from botocore<1.18.0,>=1.17.48->boto3->smart-open>=1.2.1->gensim>=3.4.0->flair==0.6.0.post1) (0.15.2)\n",
            "Building wheels for collected packages: flair\n",
            "  Building wheel for flair (PEP 517) ... \u001b[?25l\u001b[?25hdone\n",
            "  Created wheel for flair: filename=flair-0.6.0.post1-cp36-none-any.whl size=188155 sha256=4b33e7c9cd3d3b978f7c6f910dbd0489370bcc31184f15f1812f505efd8dc90c\n",
            "  Stored in directory: /tmp/pip-ephem-wheel-cache-50rr1u6n/wheels/84/82/73/d2b3b59b7be74ea05f2c6d64132efe27df52daffb47d1dc7bb\n",
            "Successfully built flair\n",
            "Installing collected packages: flair\n",
            "  Found existing installation: flair 0.6.0.post1\n",
            "    Uninstalling flair-0.6.0.post1:\n",
            "      Successfully uninstalled flair-0.6.0.post1\n",
            "Successfully installed flair-0.6.0.post1\n"
          ],
          "name": "stdout"
        }
      ]
    },
    {
      "cell_type": "code",
      "metadata": {
        "id": "REG7nbdFxFmZ",
        "colab_type": "code",
        "colab": {}
      },
      "source": [
        "import pandas as pd\n",
        "import numpy as np\n",
        "import flair as fl\n",
        "from flair.models import TextClassifier\n",
        "from flair.data import Sentence\n",
        "import math"
      ],
      "execution_count": 3,
      "outputs": []
    },
    {
      "cell_type": "code",
      "metadata": {
        "id": "p1qebZ_wzKrq",
        "colab_type": "code",
        "colab": {}
      },
      "source": [
        ""
      ],
      "execution_count": null,
      "outputs": []
    },
    {
      "cell_type": "code",
      "metadata": {
        "id": "UpuhQK1pxFwM",
        "colab_type": "code",
        "colab": {}
      },
      "source": [
        "# Loading the preprocessed dataset and defining the classifier\n",
        "data = pd.read_csv('/content/sample_data/rig mobilisation cl.csv')"
      ],
      "execution_count": 59,
      "outputs": []
    },
    {
      "cell_type": "code",
      "metadata": {
        "id": "FbhmY8vSzTV7",
        "colab_type": "code",
        "colab": {
          "base_uri": "https://localhost:8080/",
          "height": 34
        },
        "outputId": "6d286e10-2479-4036-c1dd-e021d256e4c8"
      },
      "source": [
        "classifier = TextClassifier.load('en-sentiment')"
      ],
      "execution_count": 13,
      "outputs": [
        {
          "output_type": "stream",
          "text": [
            "2020-09-05 15:29:09,199 loading file /root/.flair/models/sentiment-en-mix-distillbert_3.1.pt\n"
          ],
          "name": "stdout"
        }
      ]
    },
    {
      "cell_type": "code",
      "metadata": {
        "id": "5Ap9vVw6xFzF",
        "colab_type": "code",
        "colab": {}
      },
      "source": [
        "#create an empty list to store classification results\n",
        "sentimentlist = []\n",
        "# Classifying Each Sentence and Storing it in the List\n",
        "for x in data[\"clean_text\"]:\n",
        "    sentence = Sentence(x)\n",
        "    classifier.predict(sentence)\n",
        "    sentimentlist.append([sentence.labels[0].value,-(sentence.labels[0].score) if sentence.labels[0].value == 'NEGATIVE' else (sentence.labels[0].score)])"
      ],
      "execution_count": 60,
      "outputs": []
    },
    {
      "cell_type": "code",
      "metadata": {
        "id": "6aq9kJL6xF2F",
        "colab_type": "code",
        "colab": {}
      },
      "source": [
        "# Converting the list generated into Dataframe and Merging it with initial input data\n",
        "data2 = pd.DataFrame(sentimentlist, columns = ['sentiment', 'sentiment_score'])\n",
        "data2['sentiment_score'] = (((data2['sentiment_score']*100).round(decimals = 1))/100).round(decimals = 2)\n",
        "\n",
        "df_final = pd.concat([data, data2],axis = 1)"
      ],
      "execution_count": 61,
      "outputs": []
    },
    {
      "cell_type": "code",
      "metadata": {
        "id": "AJD9VCg2xF5H",
        "colab_type": "code",
        "colab": {
          "base_uri": "https://localhost:8080/",
          "height": 289
        },
        "outputId": "7598fe07-c7ee-48a6-df57-55fe55e40be9"
      },
      "source": [
        "#checking the structure and top values of the combined, analyzed dataframe\n",
        "df_final.head()"
      ],
      "execution_count": 62,
      "outputs": [
        {
          "output_type": "execute_result",
          "data": {
            "text/html": [
              "<div>\n",
              "<style scoped>\n",
              "    .dataframe tbody tr th:only-of-type {\n",
              "        vertical-align: middle;\n",
              "    }\n",
              "\n",
              "    .dataframe tbody tr th {\n",
              "        vertical-align: top;\n",
              "    }\n",
              "\n",
              "    .dataframe thead th {\n",
              "        text-align: right;\n",
              "    }\n",
              "</style>\n",
              "<table border=\"1\" class=\"dataframe\">\n",
              "  <thead>\n",
              "    <tr style=\"text-align: right;\">\n",
              "      <th></th>\n",
              "      <th>date</th>\n",
              "      <th>clean_text</th>\n",
              "      <th>favorites</th>\n",
              "      <th>retweets</th>\n",
              "      <th>replies</th>\n",
              "      <th>sentiment</th>\n",
              "      <th>sentiment_score</th>\n",
              "    </tr>\n",
              "  </thead>\n",
              "  <tbody>\n",
              "    <tr>\n",
              "      <th>0</th>\n",
              "      <td>2020-01-01 07:12:36+00:00</td>\n",
              "      <td>the cost varies since mobilization and demobil...</td>\n",
              "      <td>4</td>\n",
              "      <td>0</td>\n",
              "      <td>1</td>\n",
              "      <td>NEGATIVE</td>\n",
              "      <td>-1.00</td>\n",
              "    </tr>\n",
              "    <tr>\n",
              "      <th>1</th>\n",
              "      <td>2020-01-03 20:18:02+00:00</td>\n",
              "      <td>kengen has started the mobilisation of its dr...</td>\n",
              "      <td>0</td>\n",
              "      <td>0</td>\n",
              "      <td>0</td>\n",
              "      <td>POSITIVE</td>\n",
              "      <td>0.96</td>\n",
              "    </tr>\n",
              "    <tr>\n",
              "      <th>2</th>\n",
              "      <td>2020-01-05 00:20:27+00:00</td>\n",
              "      <td>thinkgeoenergy #kengen has started mobilisati...</td>\n",
              "      <td>4</td>\n",
              "      <td>1</td>\n",
              "      <td>1</td>\n",
              "      <td>POSITIVE</td>\n",
              "      <td>1.00</td>\n",
              "    </tr>\n",
              "    <tr>\n",
              "      <th>3</th>\n",
              "      <td>2020-01-14 02:30:00+00:00</td>\n",
              "      <td>kengenkenya has started mobilization of its d...</td>\n",
              "      <td>13</td>\n",
              "      <td>7</td>\n",
              "      <td>2</td>\n",
              "      <td>POSITIVE</td>\n",
              "      <td>0.91</td>\n",
              "    </tr>\n",
              "    <tr>\n",
              "      <th>4</th>\n",
              "      <td>2020-01-15 03:52:14+00:00</td>\n",
              "      <td>remember #uog have more production wells kicki...</td>\n",
              "      <td>36</td>\n",
              "      <td>30</td>\n",
              "      <td>3</td>\n",
              "      <td>NEGATIVE</td>\n",
              "      <td>-0.78</td>\n",
              "    </tr>\n",
              "  </tbody>\n",
              "</table>\n",
              "</div>"
            ],
            "text/plain": [
              "                        date  ... sentiment_score\n",
              "0  2020-01-01 07:12:36+00:00  ...           -1.00\n",
              "1  2020-01-03 20:18:02+00:00  ...            0.96\n",
              "2  2020-01-05 00:20:27+00:00  ...            1.00\n",
              "3  2020-01-14 02:30:00+00:00  ...            0.91\n",
              "4  2020-01-15 03:52:14+00:00  ...           -0.78\n",
              "\n",
              "[5 rows x 7 columns]"
            ]
          },
          "metadata": {
            "tags": []
          },
          "execution_count": 62
        }
      ]
    },
    {
      "cell_type": "code",
      "metadata": {
        "id": "AkWzvGVUxF8Q",
        "colab_type": "code",
        "colab": {}
      },
      "source": [
        "df_final.to_csv(r'/content/sample_data/rig mobilisation pred.csv', index = False, header=True)"
      ],
      "execution_count": 63,
      "outputs": []
    },
    {
      "cell_type": "code",
      "metadata": {
        "id": "iMxXWFYRxF_f",
        "colab_type": "code",
        "colab": {}
      },
      "source": [
        ""
      ],
      "execution_count": null,
      "outputs": []
    }
  ]
}